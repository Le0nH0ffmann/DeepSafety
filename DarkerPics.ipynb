{
 "cells": [
  {
   "cell_type": "code",
   "execution_count": 6,
   "metadata": {
    "collapsed": true
   },
   "outputs": [],
   "source": [
    "import os\n",
    "from PIL import Image, ImageEnhance\n",
    "\n",
    "def darken_image(image_path, output_path, darkness_factor):\n",
    "    # Öffne das Bild mit der PIL-Bibliothek\n",
    "    image = Image.open(image_path)\n",
    "\n",
    "    # Verwende den ImageEnhance-Enhancer, um das Bild abzudunkeln\n",
    "    enhancer = ImageEnhance.Brightness(image)\n",
    "    darkened_image = enhancer.enhance(darkness_factor)\n",
    "\n",
    "    # Speichere das dunklere Bild im angegebenen Ausgabepfad\n",
    "    darkened_image.save(output_path)\n",
    "\n",
    "def darken_images_in_directory(input_directory, output_directory, darkness_factor):\n",
    "    # Erstelle den Ausgabepfad, falls er nicht existiert\n",
    "    os.makedirs(output_directory, exist_ok=True)\n",
    "\n",
    "    # Liste alle Dateien im Eingabeverzeichnis auf\n",
    "    files = os.listdir(input_directory)\n",
    "\n",
    "    for file in files:\n",
    "        # Prüfe, ob es sich um eine Bilddatei handelt\n",
    "        if file.endswith(('.png', '.jpg', '.jpeg')):\n",
    "            # Pfade für die Eingabe- und Ausgabedateien erstellen\n",
    "            input_path = os.path.join(input_directory, file)\n",
    "            output_path = os.path.join(output_directory, file)\n",
    "\n",
    "            # Mache das Bild dunkler und speichere es\n",
    "            darken_image(input_path, output_path, darkness_factor)\n",
    "\n",
    "# Beispielverwendung:\n",
    "input_dir = 'GTSRB_dataset/Train/0'\n",
    "output_dir = '/0'\n",
    "darkness = 0.2  # Dunkelheitsfaktor (0.0-1.0), 0.0 = komplett schwarz, 1.0 = unverändert\n",
    "\n",
    "darken_images_in_directory(input_dir, output_dir, darkness)\n"
   ]
  },
  {
   "cell_type": "code",
   "execution_count": null,
   "outputs": [],
   "source": [],
   "metadata": {
    "collapsed": false
   }
  }
 ],
 "metadata": {
  "kernelspec": {
   "display_name": "Python 3",
   "language": "python",
   "name": "python3"
  },
  "language_info": {
   "codemirror_mode": {
    "name": "ipython",
    "version": 2
   },
   "file_extension": ".py",
   "mimetype": "text/x-python",
   "name": "python",
   "nbconvert_exporter": "python",
   "pygments_lexer": "ipython2",
   "version": "2.7.6"
  }
 },
 "nbformat": 4,
 "nbformat_minor": 0
}
